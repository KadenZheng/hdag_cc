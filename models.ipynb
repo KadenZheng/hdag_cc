{
  "nbformat": 4,
  "nbformat_minor": 0,
  "metadata": {
    "colab": {
      "provenance": []
    },
    "kernelspec": {
      "name": "python3",
      "display_name": "Python 3"
    },
    "language_info": {
      "name": "python"
    }
  },
  "cells": [
    {
      "cell_type": "markdown",
      "source": [
        "**Optimizations:** \\\n",
        "**Fine-tune learning rate and narrow dataset:** \\\n",
        "Test loss for Revenue model: 106.10247039794922 -> 02901458740234\\\n",
        "MSE for Revenue model: 106.10244727107235 -> 102.02894764584481\\\n",
        "MAE for Revenue model: 5.252847468606666 -> 4.94561613577825\\\n",
        "R² for Revenue model: 0.9582789573977678 -> 0.9957627089094524\\\n",
        "\n",
        "Test loss for COGS model: 5.4737467765808105 -> 21.09228515625 \\\n",
        "MSE for COGS model: 5.4737462218895745 -> 21.092287706213572 \\\n",
        "MAE for COGS model: 1.206369629653692 -> 2.3217709460823626 \\\n",
        "R² for COGS model: 0.9273778086148975 -> 0.9733923302071283 \\\n",
        "\n",
        "Test loss for Unit Cases model: 292.9974365234375 -> 797.8618774414062 \\\n",
        "MSE for Unit Cases model: 292.99744354965924 -> 797.8613100458189 \\\n",
        "MAE for Unit Cases model: 8.92381183568781 -> 13.005384469244214\\\n",
        "R² for Unit Cases model: 0.9707396416633955 -> 0.9831922715984656 \\"
      ],
      "metadata": {
        "id": "hH-ILw6gRH8_"
      }
    },
    {
      "cell_type": "markdown",
      "source": [
        "##Installs"
      ],
      "metadata": {
        "id": "0Hvk3B0WVkl_"
      }
    },
    {
      "cell_type": "code",
      "source": [
        "!pip install gdown"
      ],
      "metadata": {
        "colab": {
          "base_uri": "https://localhost:8080/"
        },
        "id": "YoXJ7sIvQ6IF",
        "outputId": "0dbe3d4f-2f7d-4bce-e515-1b1b76389682"
      },
      "execution_count": 4,
      "outputs": [
        {
          "output_type": "stream",
          "name": "stdout",
          "text": [
            "Requirement already satisfied: gdown in /usr/local/lib/python3.10/dist-packages (5.1.0)\n",
            "Requirement already satisfied: beautifulsoup4 in /usr/local/lib/python3.10/dist-packages (from gdown) (4.12.3)\n",
            "Requirement already satisfied: filelock in /usr/local/lib/python3.10/dist-packages (from gdown) (3.14.0)\n",
            "Requirement already satisfied: requests[socks] in /usr/local/lib/python3.10/dist-packages (from gdown) (2.31.0)\n",
            "Requirement already satisfied: tqdm in /usr/local/lib/python3.10/dist-packages (from gdown) (4.66.2)\n",
            "Requirement already satisfied: soupsieve>1.2 in /usr/local/lib/python3.10/dist-packages (from beautifulsoup4->gdown) (2.5)\n",
            "Requirement already satisfied: charset-normalizer<4,>=2 in /usr/local/lib/python3.10/dist-packages (from requests[socks]->gdown) (3.3.2)\n",
            "Requirement already satisfied: idna<4,>=2.5 in /usr/local/lib/python3.10/dist-packages (from requests[socks]->gdown) (3.7)\n",
            "Requirement already satisfied: urllib3<3,>=1.21.1 in /usr/local/lib/python3.10/dist-packages (from requests[socks]->gdown) (2.0.7)\n",
            "Requirement already satisfied: certifi>=2017.4.17 in /usr/local/lib/python3.10/dist-packages (from requests[socks]->gdown) (2024.2.2)\n",
            "Requirement already satisfied: PySocks!=1.5.7,>=1.5.6 in /usr/local/lib/python3.10/dist-packages (from requests[socks]->gdown) (1.7.1)\n"
          ]
        }
      ]
    },
    {
      "cell_type": "code",
      "source": [
        "!pip install tensorflow"
      ],
      "metadata": {
        "colab": {
          "base_uri": "https://localhost:8080/"
        },
        "id": "WlZP8LOuZ-Ge",
        "outputId": "64ad1308-5021-408b-f1ca-4cd88f7ad45f"
      },
      "execution_count": 5,
      "outputs": [
        {
          "output_type": "stream",
          "name": "stdout",
          "text": [
            "Requirement already satisfied: tensorflow in /usr/local/lib/python3.10/dist-packages (2.15.0)\n",
            "Requirement already satisfied: absl-py>=1.0.0 in /usr/local/lib/python3.10/dist-packages (from tensorflow) (1.4.0)\n",
            "Requirement already satisfied: astunparse>=1.6.0 in /usr/local/lib/python3.10/dist-packages (from tensorflow) (1.6.3)\n",
            "Requirement already satisfied: flatbuffers>=23.5.26 in /usr/local/lib/python3.10/dist-packages (from tensorflow) (24.3.25)\n",
            "Requirement already satisfied: gast!=0.5.0,!=0.5.1,!=0.5.2,>=0.2.1 in /usr/local/lib/python3.10/dist-packages (from tensorflow) (0.5.4)\n",
            "Requirement already satisfied: google-pasta>=0.1.1 in /usr/local/lib/python3.10/dist-packages (from tensorflow) (0.2.0)\n",
            "Requirement already satisfied: h5py>=2.9.0 in /usr/local/lib/python3.10/dist-packages (from tensorflow) (3.9.0)\n",
            "Requirement already satisfied: libclang>=13.0.0 in /usr/local/lib/python3.10/dist-packages (from tensorflow) (18.1.1)\n",
            "Requirement already satisfied: ml-dtypes~=0.2.0 in /usr/local/lib/python3.10/dist-packages (from tensorflow) (0.2.0)\n",
            "Requirement already satisfied: numpy<2.0.0,>=1.23.5 in /usr/local/lib/python3.10/dist-packages (from tensorflow) (1.25.2)\n",
            "Requirement already satisfied: opt-einsum>=2.3.2 in /usr/local/lib/python3.10/dist-packages (from tensorflow) (3.3.0)\n",
            "Requirement already satisfied: packaging in /usr/local/lib/python3.10/dist-packages (from tensorflow) (24.0)\n",
            "Requirement already satisfied: protobuf!=4.21.0,!=4.21.1,!=4.21.2,!=4.21.3,!=4.21.4,!=4.21.5,<5.0.0dev,>=3.20.3 in /usr/local/lib/python3.10/dist-packages (from tensorflow) (3.20.3)\n",
            "Requirement already satisfied: setuptools in /usr/local/lib/python3.10/dist-packages (from tensorflow) (67.7.2)\n",
            "Requirement already satisfied: six>=1.12.0 in /usr/local/lib/python3.10/dist-packages (from tensorflow) (1.16.0)\n",
            "Requirement already satisfied: termcolor>=1.1.0 in /usr/local/lib/python3.10/dist-packages (from tensorflow) (2.4.0)\n",
            "Requirement already satisfied: typing-extensions>=3.6.6 in /usr/local/lib/python3.10/dist-packages (from tensorflow) (4.11.0)\n",
            "Requirement already satisfied: wrapt<1.15,>=1.11.0 in /usr/local/lib/python3.10/dist-packages (from tensorflow) (1.14.1)\n",
            "Requirement already satisfied: tensorflow-io-gcs-filesystem>=0.23.1 in /usr/local/lib/python3.10/dist-packages (from tensorflow) (0.37.0)\n",
            "Requirement already satisfied: grpcio<2.0,>=1.24.3 in /usr/local/lib/python3.10/dist-packages (from tensorflow) (1.63.0)\n",
            "Requirement already satisfied: tensorboard<2.16,>=2.15 in /usr/local/lib/python3.10/dist-packages (from tensorflow) (2.15.2)\n",
            "Requirement already satisfied: tensorflow-estimator<2.16,>=2.15.0 in /usr/local/lib/python3.10/dist-packages (from tensorflow) (2.15.0)\n",
            "Requirement already satisfied: keras<2.16,>=2.15.0 in /usr/local/lib/python3.10/dist-packages (from tensorflow) (2.15.0)\n",
            "Requirement already satisfied: wheel<1.0,>=0.23.0 in /usr/local/lib/python3.10/dist-packages (from astunparse>=1.6.0->tensorflow) (0.43.0)\n",
            "Requirement already satisfied: google-auth<3,>=1.6.3 in /usr/local/lib/python3.10/dist-packages (from tensorboard<2.16,>=2.15->tensorflow) (2.27.0)\n",
            "Requirement already satisfied: google-auth-oauthlib<2,>=0.5 in /usr/local/lib/python3.10/dist-packages (from tensorboard<2.16,>=2.15->tensorflow) (1.2.0)\n",
            "Requirement already satisfied: markdown>=2.6.8 in /usr/local/lib/python3.10/dist-packages (from tensorboard<2.16,>=2.15->tensorflow) (3.6)\n",
            "Requirement already satisfied: requests<3,>=2.21.0 in /usr/local/lib/python3.10/dist-packages (from tensorboard<2.16,>=2.15->tensorflow) (2.31.0)\n",
            "Requirement already satisfied: tensorboard-data-server<0.8.0,>=0.7.0 in /usr/local/lib/python3.10/dist-packages (from tensorboard<2.16,>=2.15->tensorflow) (0.7.2)\n",
            "Requirement already satisfied: werkzeug>=1.0.1 in /usr/local/lib/python3.10/dist-packages (from tensorboard<2.16,>=2.15->tensorflow) (3.0.2)\n",
            "Requirement already satisfied: cachetools<6.0,>=2.0.0 in /usr/local/lib/python3.10/dist-packages (from google-auth<3,>=1.6.3->tensorboard<2.16,>=2.15->tensorflow) (5.3.3)\n",
            "Requirement already satisfied: pyasn1-modules>=0.2.1 in /usr/local/lib/python3.10/dist-packages (from google-auth<3,>=1.6.3->tensorboard<2.16,>=2.15->tensorflow) (0.4.0)\n",
            "Requirement already satisfied: rsa<5,>=3.1.4 in /usr/local/lib/python3.10/dist-packages (from google-auth<3,>=1.6.3->tensorboard<2.16,>=2.15->tensorflow) (4.9)\n",
            "Requirement already satisfied: requests-oauthlib>=0.7.0 in /usr/local/lib/python3.10/dist-packages (from google-auth-oauthlib<2,>=0.5->tensorboard<2.16,>=2.15->tensorflow) (1.3.1)\n",
            "Requirement already satisfied: charset-normalizer<4,>=2 in /usr/local/lib/python3.10/dist-packages (from requests<3,>=2.21.0->tensorboard<2.16,>=2.15->tensorflow) (3.3.2)\n",
            "Requirement already satisfied: idna<4,>=2.5 in /usr/local/lib/python3.10/dist-packages (from requests<3,>=2.21.0->tensorboard<2.16,>=2.15->tensorflow) (3.7)\n",
            "Requirement already satisfied: urllib3<3,>=1.21.1 in /usr/local/lib/python3.10/dist-packages (from requests<3,>=2.21.0->tensorboard<2.16,>=2.15->tensorflow) (2.0.7)\n",
            "Requirement already satisfied: certifi>=2017.4.17 in /usr/local/lib/python3.10/dist-packages (from requests<3,>=2.21.0->tensorboard<2.16,>=2.15->tensorflow) (2024.2.2)\n",
            "Requirement already satisfied: MarkupSafe>=2.1.1 in /usr/local/lib/python3.10/dist-packages (from werkzeug>=1.0.1->tensorboard<2.16,>=2.15->tensorflow) (2.1.5)\n",
            "Requirement already satisfied: pyasn1<0.7.0,>=0.4.6 in /usr/local/lib/python3.10/dist-packages (from pyasn1-modules>=0.2.1->google-auth<3,>=1.6.3->tensorboard<2.16,>=2.15->tensorflow) (0.6.0)\n",
            "Requirement already satisfied: oauthlib>=3.0.0 in /usr/local/lib/python3.10/dist-packages (from requests-oauthlib>=0.7.0->google-auth-oauthlib<2,>=0.5->tensorboard<2.16,>=2.15->tensorflow) (3.2.2)\n"
          ]
        }
      ]
    },
    {
      "cell_type": "code",
      "source": [
        "!pip install keras"
      ],
      "metadata": {
        "colab": {
          "base_uri": "https://localhost:8080/"
        },
        "id": "z5ASsUvxaABh",
        "outputId": "2ba0fa61-dbbb-4b1a-b6e6-b6c2897fca20"
      },
      "execution_count": 6,
      "outputs": [
        {
          "output_type": "stream",
          "name": "stdout",
          "text": [
            "Requirement already satisfied: keras in /usr/local/lib/python3.10/dist-packages (2.15.0)\n"
          ]
        }
      ]
    },
    {
      "cell_type": "code",
      "execution_count": 7,
      "metadata": {
        "id": "7BLoQizVQj-3"
      },
      "outputs": [],
      "source": [
        "import matplotlib.pyplot as plt\n",
        "import seaborn as sns\n",
        "import pandas as pd\n",
        "import numpy as np\n",
        "import gdown\n",
        "import pandas as pd\n",
        "from sklearn.model_selection import train_test_split\n",
        "from sklearn.preprocessing import StandardScaler, OneHotEncoder\n",
        "from tensorflow.keras.models import Sequential\n",
        "from tensorflow.keras.layers import Dense\n",
        "from keras.optimizers import Adam"
      ]
    },
    {
      "cell_type": "markdown",
      "source": [
        "##CSV Download"
      ],
      "metadata": {
        "id": "0zKCuyWjWePh"
      }
    },
    {
      "cell_type": "code",
      "source": [
        "from google.colab import drive\n",
        "drive.mount('/content/drive')"
      ],
      "metadata": {
        "colab": {
          "base_uri": "https://localhost:8080/"
        },
        "id": "0L4viFSsoGgK",
        "outputId": "f5827908-a140-4a05-fc8e-107519c1caff"
      },
      "execution_count": 8,
      "outputs": [
        {
          "output_type": "stream",
          "name": "stdout",
          "text": [
            "Mounted at /content/drive\n"
          ]
        }
      ]
    },
    {
      "cell_type": "code",
      "source": [
        "# Read the CSV file with Proportioned WDI Data Integrated\n",
        "\n",
        "your_path_to_prop_wdi_data = \"/content/drive/MyDrive/HDAG Coca-Cola /Week 8: Model Optimization and Shiny App/prop_wdi_final_data.csv\" #'/content/drive/MyDrive/HDAG Coca-Cola /Week 7: Midpoint + Data + Model/prop_wdi_final_data_update.csv'\n",
        "path = your_path_to_prop_wdi_data\n",
        "prop_wdi_final_data = pd.read_csv(path)\n",
        "# prop_wdi_final_data = pd.read_csv(\"/content/prop_wdi_final_data.csv\")"
      ],
      "metadata": {
        "id": "5bpAcNhrQ5hH"
      },
      "execution_count": 9,
      "outputs": []
    },
    {
      "cell_type": "code",
      "source": [
        "prop_wdi_final_data['Revenue']"
      ],
      "metadata": {
        "colab": {
          "base_uri": "https://localhost:8080/"
        },
        "id": "P8IzmGa7asMN",
        "outputId": "8e8d152c-059d-4835-c050-501ed0a0b1f5"
      },
      "execution_count": 10,
      "outputs": [
        {
          "output_type": "execute_result",
          "data": {
            "text/plain": [
              "0       31.2910\n",
              "1      587.3716\n",
              "2       30.2174\n",
              "3       -0.0546\n",
              "4        7.7796\n",
              "         ...   \n",
              "541      0.0000\n",
              "542      0.1238\n",
              "543     13.7234\n",
              "544      2.0686\n",
              "545    102.0290\n",
              "Name: Revenue, Length: 546, dtype: float64"
            ]
          },
          "metadata": {},
          "execution_count": 10
        }
      ]
    },
    {
      "cell_type": "code",
      "source": [
        "# CODE BEFORE NARROWING DOWN FEATURES\n",
        "# Remove non-numeric columns for simplicity\n",
        "features = prop_wdi_final_data.select_dtypes(include=[\"number\"])\n",
        "\n",
        "features = features.drop(['Gross Profit', 'Brand Contribution', 'Revenue', 'COGS', 'Operating Expenses'], axis=1)\n",
        "targets = prop_wdi_final_data[['Revenue', 'COGS', 'Unit Cases']]\n",
        "\n",
        "# Split the data into training and testing sets\n",
        "X_train = features[features['Year'] != 2023]\n",
        "X_test = features[features['Year'] == 2023]\n",
        "y_train = targets[features['Year'] != 2023]\n",
        "y_test = targets[features['Year'] == 2023]\n",
        "\n",
        "# Scale the features\n",
        "scaler = StandardScaler()\n",
        "X_train_scaled = scaler.fit_transform(X_train)\n",
        "X_test_scaled = scaler.transform(X_test)\n",
        "\n",
        "# Neural network for Revenue\n",
        "model_revenue = Sequential([\n",
        "    Dense(128, activation='relu', input_shape=(X_train_scaled.shape[1],)),\n",
        "    Dense(128, activation='relu'),\n",
        "    Dense(128, activation='relu'),\n",
        "    Dense(128, activation='relu'),\n",
        "    Dense(1)\n",
        "])\n",
        "\n",
        "model_revenue.compile(optimizer=Adam(learning_rate=0.003), loss='mse')\n",
        "\n",
        "# Neural network for COGS\n",
        "model_cogs = Sequential([\n",
        "    Dense(128, activation='relu', input_shape=(X_train_scaled.shape[1],)),\n",
        "    Dense(128, activation='relu'),\n",
        "    Dense(128, activation='relu'),\n",
        "    Dense(1)\n",
        "])\n",
        "\n",
        "model_cogs.compile(optimizer=Adam(learning_rate=0.003), loss='mse')\n",
        "\n",
        "\n",
        "# Neural network for Unit Cases\n",
        "model_uc = Sequential([\n",
        "    Dense(64, activation='relu', input_shape=(X_train_scaled.shape[1],)),\n",
        "    Dense(64, activation='relu'),\n",
        "    Dense(1)\n",
        "])\n",
        "\n",
        "model_uc.compile(optimizer=Adam(learning_rate=0.1), loss='mse')"
      ],
      "metadata": {
        "id": "pBnbFfS3Yixz"
      },
      "execution_count": 11,
      "outputs": []
    },
    {
      "cell_type": "code",
      "source": [
        "from tensorflow.keras.callbacks import EarlyStopping\n",
        "from sklearn.metrics import mean_squared_error, mean_absolute_error, r2_score\n",
        "\n",
        "# Remove non-numeric columns for simplicity\n",
        "features = prop_wdi_final_data.select_dtypes(include=[\"number\"])\n",
        "\n",
        "# Leave only the specified features\n",
        "features = features[['Year', 'DME', 'Industry Value Final', 'DfR',\n",
        "       'Population in urban agglomerations of more than 1 million (% of total population)',\n",
        "       'Labor force, total_valmultiplied',\n",
        "       'Population in the largest city (% of urban population)_valmultiplied',\n",
        "       'Unemployment, youth female (% of female labor force ages 15-24) (modeled ILO estimate)_valmultiplied',\n",
        "       'Population in the largest city (% of urban population)_volume_multiplied',\n",
        "       'Population in urban agglomerations of more than 1 million_volume_multiplied',\n",
        "       'Population in urban agglomerations of more than 1 million (% of total population)_volume_multiplied']]\n",
        "#features = features.drop(['Gross Profit', 'Brand Contribution', 'Revenue', 'COGS', 'Operating Expenses'], axis=1)\n",
        "targets = prop_wdi_final_data[['Revenue', 'COGS', 'Unit Cases']]\n",
        "\n",
        "# Split the data into training and testing sets\n",
        "X_train = features[features['Year'] != 2023]\n",
        "X_test = features[features['Year'] == 2023]\n",
        "y_train = targets[features['Year'] != 2023]\n",
        "y_test = targets[features['Year'] == 2023]\n",
        "\n",
        "# Scale the features\n",
        "scaler = StandardScaler()\n",
        "X_train_scaled = scaler.fit_transform(X_train)\n",
        "X_test_scaled = scaler.transform(X_test)\n",
        "\n",
        "# Neural network for Revenue\n",
        "model_revenue = Sequential([\n",
        "    Dense(128, activation='relu', input_shape=(X_train_scaled.shape[1],)),\n",
        "    Dense(128, activation='relu'),\n",
        "    Dense(128, activation='relu'),\n",
        "    Dense(128, activation='relu'),\n",
        "    Dense(1)\n",
        "])\n",
        "\n",
        "model_revenue.compile(optimizer=Adam(learning_rate=0.03), loss='mse')\n",
        "\n",
        "# Define early stopping\n",
        "early_stopping = EarlyStopping(monitor='val_loss', patience=10, restore_best_weights=True)\n",
        "\n",
        "# Train the model for Revenue\n",
        "history_revenue = model_revenue.fit(X_train_scaled, y_train['Revenue'], validation_split=0.2, epochs=100, callbacks=[early_stopping], verbose=0)\n",
        "\n",
        "# Predictions for Revenue\n",
        "y_pred_revenue = model_revenue.predict(X_test_scaled).flatten()\n",
        "\n",
        "# Evaluate the model on the test set for Revenue\n",
        "test_loss_revenue = model_revenue.evaluate(X_test_scaled, y_test['Revenue'], verbose=0)\n",
        "\n",
        "# Additional metrics for Revenue\n",
        "mse_revenue = mean_squared_error(y_test['Revenue'], y_pred_revenue)\n",
        "mae_revenue = mean_absolute_error(y_test['Revenue'], y_pred_revenue)\n",
        "r2_revenue = r2_score(y_test['Revenue'], y_pred_revenue)\n",
        "\n",
        "# Print out the results\n",
        "print(f'Test loss for Revenue model: {test_loss_revenue}')\n",
        "print(f'MSE for Revenue model: {mse_revenue}')\n",
        "print(f'MAE for Revenue model: {mae_revenue}')\n",
        "print(f'R² for Revenue model: {r2_revenue}\\n')"
      ],
      "metadata": {
        "id": "feudAiLnVb6B",
        "colab": {
          "base_uri": "https://localhost:8080/"
        },
        "outputId": "d4bb74a6-705e-4759-c818-20b056bf8e6b"
      },
      "execution_count": 12,
      "outputs": [
        {
          "output_type": "stream",
          "name": "stdout",
          "text": [
            "4/4 [==============================] - 0s 3ms/step\n",
            "Test loss for Revenue model: 89.76207733154297\n",
            "MSE for Revenue model: 89.76205343426363\n",
            "MAE for Revenue model: 4.935911357222663\n",
            "R² for Revenue model: 0.99627215650007\n",
            "\n"
          ]
        }
      ]
    },
    {
      "cell_type": "code",
      "source": [
        "from tensorflow.keras.callbacks import EarlyStopping\n",
        "from sklearn.metrics import mean_squared_error, mean_absolute_error, r2_score\n",
        "from tensorflow.keras.layers import Dense, LeakyReLU\n",
        "\n",
        "# Remove non-numeric columns for simplicity\n",
        "features = prop_wdi_final_data.select_dtypes(include=[\"number\"])\n",
        "\n",
        "# Leave only the specified features\n",
        "features = features[['Year', 'DME', 'Industry Value Final', 'DfR', 'Population in largest city',\n",
        "       'Labor force, total_valmultiplied',\n",
        "       'Population in largest city_valmultiplied',\n",
        "       'Population in urban agglomerations of more than 1 million_valmultiplied',\n",
        "       'Labor force, total_volume_multiplied',\n",
        "       'Population in largest city_volume_multiplied',\n",
        "       'Population in urban agglomerations of more than 1 million_volume_multiplied']]\n",
        "targets = prop_wdi_final_data[['Revenue', 'COGS', 'Unit Cases']]\n",
        "\n",
        "# Split the data into training and testing sets\n",
        "X_train = features[features['Year'] != 2023]\n",
        "X_test = features[features['Year'] == 2023]\n",
        "y_train = targets[features['Year'] != 2023]\n",
        "y_test = targets[features['Year'] == 2023]\n",
        "\n",
        "# Scale the features\n",
        "scaler = StandardScaler()\n",
        "X_train_scaled = scaler.fit_transform(X_train)\n",
        "X_test_scaled = scaler.transform(X_test)\n",
        "\n",
        "# Neural network for COGS\n",
        "model_cogs = Sequential([\n",
        "    Dense(128, activation='relu', input_shape=(X_train_scaled.shape[1],)),\n",
        "    Dense(128, activation=LeakyReLU(alpha=0.1)),\n",
        "    Dense(128, activation=LeakyReLU(alpha=0.1)),\n",
        "    Dense(1)\n",
        "])\n",
        "\n",
        "model_cogs.compile(optimizer=Adam(learning_rate=0.03), loss='mse')\n",
        "\n",
        "# Train the model for COGS\n",
        "history_cogs = model_cogs.fit(X_train_scaled, y_train['COGS'], validation_split=0.2, epochs=100, callbacks=[early_stopping], verbose=0)\n",
        "\n",
        "# Predictions for COGS\n",
        "y_pred_cogs = model_cogs.predict(X_test_scaled).flatten()\n",
        "\n",
        "# Evaluate the model on the test set for COGS\n",
        "test_loss_cogs = model_cogs.evaluate(X_test_scaled, y_test['COGS'], verbose=0)\n",
        "\n",
        "# Additional metrics for COGS\n",
        "mse_cogs = mean_squared_error(y_test['COGS'], y_pred_cogs)\n",
        "mae_cogs = mean_absolute_error(y_test['COGS'], y_pred_cogs)\n",
        "r2_cogs = r2_score(y_test['COGS'], y_pred_cogs)\n",
        "\n",
        "print(f'Test loss for COGS model: {test_loss_cogs}')\n",
        "print(f'MSE for COGS model: {mse_cogs}')\n",
        "print(f'MAE for COGS model: {mae_cogs}')\n",
        "print(f'R² for COGS model: {r2_cogs}\\n')"
      ],
      "metadata": {
        "id": "sSAaBoPcVbJW",
        "colab": {
          "base_uri": "https://localhost:8080/"
        },
        "outputId": "0e008467-7a36-4de8-a071-911e69e74c08"
      },
      "execution_count": 13,
      "outputs": [
        {
          "output_type": "stream",
          "name": "stdout",
          "text": [
            "4/4 [==============================] - 0s 3ms/step\n",
            "Test loss for COGS model: 43.00800704956055\n",
            "MSE for COGS model: 43.00799601663249\n",
            "MAE for COGS model: 2.50837442173428\n",
            "R² for COGS model: 0.945745925126624\n",
            "\n"
          ]
        }
      ]
    },
    {
      "cell_type": "code",
      "source": [
        "from tensorflow.keras.callbacks import EarlyStopping\n",
        "from sklearn.metrics import mean_squared_error, mean_absolute_error, r2_score\n",
        "\n",
        "# Remove non-numeric columns for simplicity\n",
        "features = prop_wdi_final_data.select_dtypes(include=[\"number\"])\n",
        "\n",
        "# Leave only the specified features\n",
        "features = features[['Year', 'DME', 'Industry Value Final', 'DfR',\n",
        "       'Employment to population ratio, 15+, male (%) (modeled ILO estimate)_valmultiplied',\n",
        "       'Labor force, total_valmultiplied',\n",
        "       'Population in largest city_valmultiplied',\n",
        "       'Population in largest city_volume_multiplied',\n",
        "       'Population in the largest city (% of urban population)_volume_multiplied',\n",
        "       'Population in urban agglomerations of more than 1 million_volume_multiplied',\n",
        "       'Unemployment, youth male (% of male labor force ages 15-24) (modeled ILO estimate)_volume_multiplied']]\n",
        "#features = features.drop(['Gross Profit', 'Brand Contribution', 'Revenue', 'COGS', 'Operating Expenses'], axis=1)\n",
        "targets = prop_wdi_final_data[['Revenue', 'COGS', 'Unit Cases']]\n",
        "\n",
        "# Split the data into training and testing sets\n",
        "X_train = features[features['Year'] != 2023]\n",
        "X_test = features[features['Year'] == 2023]\n",
        "y_train = targets[features['Year'] != 2023]\n",
        "y_test = targets[features['Year'] == 2023]\n",
        "\n",
        "# Scale the features\n",
        "scaler = StandardScaler()\n",
        "X_train_scaled = scaler.fit_transform(X_train)\n",
        "X_test_scaled = scaler.transform(X_test)\n",
        "\n",
        "# Neural network for Unit Cases\n",
        "model_uc = Sequential([\n",
        "    Dense(128, activation='relu', input_shape=(X_train_scaled.shape[1],)),\n",
        "    Dense(128, activation=LeakyReLU(alpha=0.01)),\n",
        "    Dense(128, activation=LeakyReLU(alpha=0.01)),\n",
        "    Dense(1)\n",
        "])\n",
        "\n",
        "model_uc.compile(optimizer=Adam(learning_rate=0.07), loss='mse')\n",
        "\n",
        "# Train the model for Unit Unit Cases\n",
        "history_uc = model_uc.fit(X_train_scaled, y_train['Unit Cases'], validation_split=0.2, epochs=100, callbacks=[early_stopping], verbose=0)\n",
        "\n",
        "# Predictions for Unit Cases\n",
        "y_pred_uc = model_uc.predict(X_test_scaled).flatten()\n",
        "\n",
        "# Evaluate the model on the test set for Unit Cases\n",
        "test_loss_uc = model_uc.evaluate(X_test_scaled, y_test['Unit Cases'], verbose=0)\n",
        "\n",
        "# Additional metrics for Unit Cases\n",
        "mse_uc = mean_squared_error(y_test['Unit Cases'], y_pred_uc)\n",
        "mae_uc = mean_absolute_error(y_test['Unit Cases'], y_pred_uc)\n",
        "r2_uc = r2_score(y_test['Unit Cases'], y_pred_uc)\n",
        "\n",
        "print(f'Test loss for Unit Cases model: {test_loss_uc}')\n",
        "print(f'MSE for Unit Cases model: {mse_uc}')\n",
        "print(f'MAE for Unit Cases model: {mae_uc}')\n",
        "print(f'R² for Unit Cases model: {r2_uc}')"
      ],
      "metadata": {
        "id": "arBz628DVXub",
        "colab": {
          "base_uri": "https://localhost:8080/"
        },
        "outputId": "19fa27b6-f59d-4cbe-8897-f7131a632a39"
      },
      "execution_count": 14,
      "outputs": [
        {
          "output_type": "stream",
          "name": "stdout",
          "text": [
            "4/4 [==============================] - 0s 6ms/step\n",
            "Test loss for Unit Cases model: 953.2394409179688\n",
            "MSE for Unit Cases model: 953.2398770300553\n",
            "MAE for Unit Cases model: 13.093676214728534\n",
            "R² for Unit Cases model: 0.9799190702031746\n"
          ]
        }
      ]
    },
    {
      "cell_type": "code",
      "source": [
        "results_df = pd.DataFrame({\n",
        "    'Actual Revenue': y_test['Revenue'],\n",
        "    'Predicted Revenue': y_pred_revenue,\n",
        "    'Revenue Residual': y_test['Revenue'] - y_pred_revenue,\n",
        "    'Actual COGS': y_test['COGS'],\n",
        "    'Predicted COGS': y_pred_cogs,\n",
        "    'COGS Residual': y_test['COGS'] - y_pred_cogs,\n",
        "    'Actual Unit Cases': y_test['Unit Cases'],\n",
        "    'Predicted Unit Cases': y_pred_uc,\n",
        "    'Unit Cases Residual': y_test['Unit Cases'] - y_pred_uc,\n",
        "})\n",
        "\n",
        "results_df"
      ],
      "metadata": {
        "colab": {
          "base_uri": "https://localhost:8080/",
          "height": 441
        },
        "id": "gh0pygt_lOr-",
        "outputId": "e8bef00e-221c-419a-cf09-432fd10a16ef"
      },
      "execution_count": 15,
      "outputs": [
        {
          "output_type": "execute_result",
          "data": {
            "text/plain": [
              "     Actual Revenue  Predicted Revenue  Revenue Residual  Actual COGS  \\\n",
              "438         41.0254          31.193403          9.831997       4.1262   \n",
              "439        741.4114         708.511963         32.899437      87.4427   \n",
              "440         27.3980          25.179483          2.218517      14.2541   \n",
              "441          0.0000           3.423824         -3.423824       0.0000   \n",
              "442         10.9329           1.231948          9.700952       1.4507   \n",
              "..              ...                ...               ...          ...   \n",
              "541          0.0000           1.231948         -1.231948       0.0000   \n",
              "542          0.1238           1.231948         -1.108148       0.0387   \n",
              "543         13.7234          13.963980         -0.240580       4.5943   \n",
              "544          2.0686           1.325859          0.742741       1.3515   \n",
              "545        102.0290         137.603424        -35.574424      19.8324   \n",
              "\n",
              "     Predicted COGS  COGS Residual  Actual Unit Cases  Predicted Unit Cases  \\\n",
              "438        3.342263       0.783937            14.7328              1.565376   \n",
              "439       92.861748      -5.419048           944.8182            906.108154   \n",
              "440       11.652998       2.601102            19.0232              5.454554   \n",
              "441        2.065974      -2.065974            13.9992              6.005823   \n",
              "442        1.061878       0.388822             3.7105             -0.263020   \n",
              "..              ...            ...                ...                   ...   \n",
              "541        0.565998      -0.565998             0.0000             -0.652131   \n",
              "542        0.578259      -0.539559             0.0857             -0.571683   \n",
              "543        2.890593       1.703707            20.6379              1.740888   \n",
              "544        0.950461       0.401039             3.8077              1.592872   \n",
              "545       23.732162      -3.899762           165.8600            199.677841   \n",
              "\n",
              "     Unit Cases Residual  \n",
              "438            13.167424  \n",
              "439            38.710046  \n",
              "440            13.568646  \n",
              "441             7.993377  \n",
              "442             3.973520  \n",
              "..                   ...  \n",
              "541             0.652131  \n",
              "542             0.657383  \n",
              "543            18.897012  \n",
              "544             2.214828  \n",
              "545           -33.817841  \n",
              "\n",
              "[108 rows x 9 columns]"
            ],
            "text/html": [
              "\n",
              "  <div id=\"df-6a3d05c0-bbf7-4333-865d-e1bb282f5c71\" class=\"colab-df-container\">\n",
              "    <div>\n",
              "<style scoped>\n",
              "    .dataframe tbody tr th:only-of-type {\n",
              "        vertical-align: middle;\n",
              "    }\n",
              "\n",
              "    .dataframe tbody tr th {\n",
              "        vertical-align: top;\n",
              "    }\n",
              "\n",
              "    .dataframe thead th {\n",
              "        text-align: right;\n",
              "    }\n",
              "</style>\n",
              "<table border=\"1\" class=\"dataframe\">\n",
              "  <thead>\n",
              "    <tr style=\"text-align: right;\">\n",
              "      <th></th>\n",
              "      <th>Actual Revenue</th>\n",
              "      <th>Predicted Revenue</th>\n",
              "      <th>Revenue Residual</th>\n",
              "      <th>Actual COGS</th>\n",
              "      <th>Predicted COGS</th>\n",
              "      <th>COGS Residual</th>\n",
              "      <th>Actual Unit Cases</th>\n",
              "      <th>Predicted Unit Cases</th>\n",
              "      <th>Unit Cases Residual</th>\n",
              "    </tr>\n",
              "  </thead>\n",
              "  <tbody>\n",
              "    <tr>\n",
              "      <th>438</th>\n",
              "      <td>41.0254</td>\n",
              "      <td>31.193403</td>\n",
              "      <td>9.831997</td>\n",
              "      <td>4.1262</td>\n",
              "      <td>3.342263</td>\n",
              "      <td>0.783937</td>\n",
              "      <td>14.7328</td>\n",
              "      <td>1.565376</td>\n",
              "      <td>13.167424</td>\n",
              "    </tr>\n",
              "    <tr>\n",
              "      <th>439</th>\n",
              "      <td>741.4114</td>\n",
              "      <td>708.511963</td>\n",
              "      <td>32.899437</td>\n",
              "      <td>87.4427</td>\n",
              "      <td>92.861748</td>\n",
              "      <td>-5.419048</td>\n",
              "      <td>944.8182</td>\n",
              "      <td>906.108154</td>\n",
              "      <td>38.710046</td>\n",
              "    </tr>\n",
              "    <tr>\n",
              "      <th>440</th>\n",
              "      <td>27.3980</td>\n",
              "      <td>25.179483</td>\n",
              "      <td>2.218517</td>\n",
              "      <td>14.2541</td>\n",
              "      <td>11.652998</td>\n",
              "      <td>2.601102</td>\n",
              "      <td>19.0232</td>\n",
              "      <td>5.454554</td>\n",
              "      <td>13.568646</td>\n",
              "    </tr>\n",
              "    <tr>\n",
              "      <th>441</th>\n",
              "      <td>0.0000</td>\n",
              "      <td>3.423824</td>\n",
              "      <td>-3.423824</td>\n",
              "      <td>0.0000</td>\n",
              "      <td>2.065974</td>\n",
              "      <td>-2.065974</td>\n",
              "      <td>13.9992</td>\n",
              "      <td>6.005823</td>\n",
              "      <td>7.993377</td>\n",
              "    </tr>\n",
              "    <tr>\n",
              "      <th>442</th>\n",
              "      <td>10.9329</td>\n",
              "      <td>1.231948</td>\n",
              "      <td>9.700952</td>\n",
              "      <td>1.4507</td>\n",
              "      <td>1.061878</td>\n",
              "      <td>0.388822</td>\n",
              "      <td>3.7105</td>\n",
              "      <td>-0.263020</td>\n",
              "      <td>3.973520</td>\n",
              "    </tr>\n",
              "    <tr>\n",
              "      <th>...</th>\n",
              "      <td>...</td>\n",
              "      <td>...</td>\n",
              "      <td>...</td>\n",
              "      <td>...</td>\n",
              "      <td>...</td>\n",
              "      <td>...</td>\n",
              "      <td>...</td>\n",
              "      <td>...</td>\n",
              "      <td>...</td>\n",
              "    </tr>\n",
              "    <tr>\n",
              "      <th>541</th>\n",
              "      <td>0.0000</td>\n",
              "      <td>1.231948</td>\n",
              "      <td>-1.231948</td>\n",
              "      <td>0.0000</td>\n",
              "      <td>0.565998</td>\n",
              "      <td>-0.565998</td>\n",
              "      <td>0.0000</td>\n",
              "      <td>-0.652131</td>\n",
              "      <td>0.652131</td>\n",
              "    </tr>\n",
              "    <tr>\n",
              "      <th>542</th>\n",
              "      <td>0.1238</td>\n",
              "      <td>1.231948</td>\n",
              "      <td>-1.108148</td>\n",
              "      <td>0.0387</td>\n",
              "      <td>0.578259</td>\n",
              "      <td>-0.539559</td>\n",
              "      <td>0.0857</td>\n",
              "      <td>-0.571683</td>\n",
              "      <td>0.657383</td>\n",
              "    </tr>\n",
              "    <tr>\n",
              "      <th>543</th>\n",
              "      <td>13.7234</td>\n",
              "      <td>13.963980</td>\n",
              "      <td>-0.240580</td>\n",
              "      <td>4.5943</td>\n",
              "      <td>2.890593</td>\n",
              "      <td>1.703707</td>\n",
              "      <td>20.6379</td>\n",
              "      <td>1.740888</td>\n",
              "      <td>18.897012</td>\n",
              "    </tr>\n",
              "    <tr>\n",
              "      <th>544</th>\n",
              "      <td>2.0686</td>\n",
              "      <td>1.325859</td>\n",
              "      <td>0.742741</td>\n",
              "      <td>1.3515</td>\n",
              "      <td>0.950461</td>\n",
              "      <td>0.401039</td>\n",
              "      <td>3.8077</td>\n",
              "      <td>1.592872</td>\n",
              "      <td>2.214828</td>\n",
              "    </tr>\n",
              "    <tr>\n",
              "      <th>545</th>\n",
              "      <td>102.0290</td>\n",
              "      <td>137.603424</td>\n",
              "      <td>-35.574424</td>\n",
              "      <td>19.8324</td>\n",
              "      <td>23.732162</td>\n",
              "      <td>-3.899762</td>\n",
              "      <td>165.8600</td>\n",
              "      <td>199.677841</td>\n",
              "      <td>-33.817841</td>\n",
              "    </tr>\n",
              "  </tbody>\n",
              "</table>\n",
              "<p>108 rows × 9 columns</p>\n",
              "</div>\n",
              "    <div class=\"colab-df-buttons\">\n",
              "\n",
              "  <div class=\"colab-df-container\">\n",
              "    <button class=\"colab-df-convert\" onclick=\"convertToInteractive('df-6a3d05c0-bbf7-4333-865d-e1bb282f5c71')\"\n",
              "            title=\"Convert this dataframe to an interactive table.\"\n",
              "            style=\"display:none;\">\n",
              "\n",
              "  <svg xmlns=\"http://www.w3.org/2000/svg\" height=\"24px\" viewBox=\"0 -960 960 960\">\n",
              "    <path d=\"M120-120v-720h720v720H120Zm60-500h600v-160H180v160Zm220 220h160v-160H400v160Zm0 220h160v-160H400v160ZM180-400h160v-160H180v160Zm440 0h160v-160H620v160ZM180-180h160v-160H180v160Zm440 0h160v-160H620v160Z\"/>\n",
              "  </svg>\n",
              "    </button>\n",
              "\n",
              "  <style>\n",
              "    .colab-df-container {\n",
              "      display:flex;\n",
              "      gap: 12px;\n",
              "    }\n",
              "\n",
              "    .colab-df-convert {\n",
              "      background-color: #E8F0FE;\n",
              "      border: none;\n",
              "      border-radius: 50%;\n",
              "      cursor: pointer;\n",
              "      display: none;\n",
              "      fill: #1967D2;\n",
              "      height: 32px;\n",
              "      padding: 0 0 0 0;\n",
              "      width: 32px;\n",
              "    }\n",
              "\n",
              "    .colab-df-convert:hover {\n",
              "      background-color: #E2EBFA;\n",
              "      box-shadow: 0px 1px 2px rgba(60, 64, 67, 0.3), 0px 1px 3px 1px rgba(60, 64, 67, 0.15);\n",
              "      fill: #174EA6;\n",
              "    }\n",
              "\n",
              "    .colab-df-buttons div {\n",
              "      margin-bottom: 4px;\n",
              "    }\n",
              "\n",
              "    [theme=dark] .colab-df-convert {\n",
              "      background-color: #3B4455;\n",
              "      fill: #D2E3FC;\n",
              "    }\n",
              "\n",
              "    [theme=dark] .colab-df-convert:hover {\n",
              "      background-color: #434B5C;\n",
              "      box-shadow: 0px 1px 3px 1px rgba(0, 0, 0, 0.15);\n",
              "      filter: drop-shadow(0px 1px 2px rgba(0, 0, 0, 0.3));\n",
              "      fill: #FFFFFF;\n",
              "    }\n",
              "  </style>\n",
              "\n",
              "    <script>\n",
              "      const buttonEl =\n",
              "        document.querySelector('#df-6a3d05c0-bbf7-4333-865d-e1bb282f5c71 button.colab-df-convert');\n",
              "      buttonEl.style.display =\n",
              "        google.colab.kernel.accessAllowed ? 'block' : 'none';\n",
              "\n",
              "      async function convertToInteractive(key) {\n",
              "        const element = document.querySelector('#df-6a3d05c0-bbf7-4333-865d-e1bb282f5c71');\n",
              "        const dataTable =\n",
              "          await google.colab.kernel.invokeFunction('convertToInteractive',\n",
              "                                                    [key], {});\n",
              "        if (!dataTable) return;\n",
              "\n",
              "        const docLinkHtml = 'Like what you see? Visit the ' +\n",
              "          '<a target=\"_blank\" href=https://colab.research.google.com/notebooks/data_table.ipynb>data table notebook</a>'\n",
              "          + ' to learn more about interactive tables.';\n",
              "        element.innerHTML = '';\n",
              "        dataTable['output_type'] = 'display_data';\n",
              "        await google.colab.output.renderOutput(dataTable, element);\n",
              "        const docLink = document.createElement('div');\n",
              "        docLink.innerHTML = docLinkHtml;\n",
              "        element.appendChild(docLink);\n",
              "      }\n",
              "    </script>\n",
              "  </div>\n",
              "\n",
              "\n",
              "<div id=\"df-6902ba6f-6e07-4fd3-829d-3cb947499e69\">\n",
              "  <button class=\"colab-df-quickchart\" onclick=\"quickchart('df-6902ba6f-6e07-4fd3-829d-3cb947499e69')\"\n",
              "            title=\"Suggest charts\"\n",
              "            style=\"display:none;\">\n",
              "\n",
              "<svg xmlns=\"http://www.w3.org/2000/svg\" height=\"24px\"viewBox=\"0 0 24 24\"\n",
              "     width=\"24px\">\n",
              "    <g>\n",
              "        <path d=\"M19 3H5c-1.1 0-2 .9-2 2v14c0 1.1.9 2 2 2h14c1.1 0 2-.9 2-2V5c0-1.1-.9-2-2-2zM9 17H7v-7h2v7zm4 0h-2V7h2v10zm4 0h-2v-4h2v4z\"/>\n",
              "    </g>\n",
              "</svg>\n",
              "  </button>\n",
              "\n",
              "<style>\n",
              "  .colab-df-quickchart {\n",
              "      --bg-color: #E8F0FE;\n",
              "      --fill-color: #1967D2;\n",
              "      --hover-bg-color: #E2EBFA;\n",
              "      --hover-fill-color: #174EA6;\n",
              "      --disabled-fill-color: #AAA;\n",
              "      --disabled-bg-color: #DDD;\n",
              "  }\n",
              "\n",
              "  [theme=dark] .colab-df-quickchart {\n",
              "      --bg-color: #3B4455;\n",
              "      --fill-color: #D2E3FC;\n",
              "      --hover-bg-color: #434B5C;\n",
              "      --hover-fill-color: #FFFFFF;\n",
              "      --disabled-bg-color: #3B4455;\n",
              "      --disabled-fill-color: #666;\n",
              "  }\n",
              "\n",
              "  .colab-df-quickchart {\n",
              "    background-color: var(--bg-color);\n",
              "    border: none;\n",
              "    border-radius: 50%;\n",
              "    cursor: pointer;\n",
              "    display: none;\n",
              "    fill: var(--fill-color);\n",
              "    height: 32px;\n",
              "    padding: 0;\n",
              "    width: 32px;\n",
              "  }\n",
              "\n",
              "  .colab-df-quickchart:hover {\n",
              "    background-color: var(--hover-bg-color);\n",
              "    box-shadow: 0 1px 2px rgba(60, 64, 67, 0.3), 0 1px 3px 1px rgba(60, 64, 67, 0.15);\n",
              "    fill: var(--button-hover-fill-color);\n",
              "  }\n",
              "\n",
              "  .colab-df-quickchart-complete:disabled,\n",
              "  .colab-df-quickchart-complete:disabled:hover {\n",
              "    background-color: var(--disabled-bg-color);\n",
              "    fill: var(--disabled-fill-color);\n",
              "    box-shadow: none;\n",
              "  }\n",
              "\n",
              "  .colab-df-spinner {\n",
              "    border: 2px solid var(--fill-color);\n",
              "    border-color: transparent;\n",
              "    border-bottom-color: var(--fill-color);\n",
              "    animation:\n",
              "      spin 1s steps(1) infinite;\n",
              "  }\n",
              "\n",
              "  @keyframes spin {\n",
              "    0% {\n",
              "      border-color: transparent;\n",
              "      border-bottom-color: var(--fill-color);\n",
              "      border-left-color: var(--fill-color);\n",
              "    }\n",
              "    20% {\n",
              "      border-color: transparent;\n",
              "      border-left-color: var(--fill-color);\n",
              "      border-top-color: var(--fill-color);\n",
              "    }\n",
              "    30% {\n",
              "      border-color: transparent;\n",
              "      border-left-color: var(--fill-color);\n",
              "      border-top-color: var(--fill-color);\n",
              "      border-right-color: var(--fill-color);\n",
              "    }\n",
              "    40% {\n",
              "      border-color: transparent;\n",
              "      border-right-color: var(--fill-color);\n",
              "      border-top-color: var(--fill-color);\n",
              "    }\n",
              "    60% {\n",
              "      border-color: transparent;\n",
              "      border-right-color: var(--fill-color);\n",
              "    }\n",
              "    80% {\n",
              "      border-color: transparent;\n",
              "      border-right-color: var(--fill-color);\n",
              "      border-bottom-color: var(--fill-color);\n",
              "    }\n",
              "    90% {\n",
              "      border-color: transparent;\n",
              "      border-bottom-color: var(--fill-color);\n",
              "    }\n",
              "  }\n",
              "</style>\n",
              "\n",
              "  <script>\n",
              "    async function quickchart(key) {\n",
              "      const quickchartButtonEl =\n",
              "        document.querySelector('#' + key + ' button');\n",
              "      quickchartButtonEl.disabled = true;  // To prevent multiple clicks.\n",
              "      quickchartButtonEl.classList.add('colab-df-spinner');\n",
              "      try {\n",
              "        const charts = await google.colab.kernel.invokeFunction(\n",
              "            'suggestCharts', [key], {});\n",
              "      } catch (error) {\n",
              "        console.error('Error during call to suggestCharts:', error);\n",
              "      }\n",
              "      quickchartButtonEl.classList.remove('colab-df-spinner');\n",
              "      quickchartButtonEl.classList.add('colab-df-quickchart-complete');\n",
              "    }\n",
              "    (() => {\n",
              "      let quickchartButtonEl =\n",
              "        document.querySelector('#df-6902ba6f-6e07-4fd3-829d-3cb947499e69 button');\n",
              "      quickchartButtonEl.style.display =\n",
              "        google.colab.kernel.accessAllowed ? 'block' : 'none';\n",
              "    })();\n",
              "  </script>\n",
              "</div>\n",
              "    </div>\n",
              "  </div>\n"
            ],
            "application/vnd.google.colaboratory.intrinsic+json": {
              "type": "dataframe",
              "variable_name": "results_df",
              "summary": "{\n  \"name\": \"results_df\",\n  \"rows\": 108,\n  \"fields\": [\n    {\n      \"column\": \"Actual Revenue\",\n      \"properties\": {\n        \"dtype\": \"number\",\n        \"std\": 155.8969226938829,\n        \"min\": -0.098,\n        \"max\": 1303.0499,\n        \"num_unique_values\": 59,\n        \"samples\": [\n          41.0254,\n          33.0279,\n          8.2029\n        ],\n        \"semantic_type\": \"\",\n        \"description\": \"\"\n      }\n    },\n    {\n      \"column\": \"Predicted Revenue\",\n      \"properties\": {\n        \"dtype\": \"float32\",\n        \"num_unique_values\": 53,\n        \"samples\": [\n          4.951585292816162,\n          1.4289854764938354,\n          2.104868173599243\n        ],\n        \"semantic_type\": \"\",\n        \"description\": \"\"\n      }\n    },\n    {\n      \"column\": \"Revenue Residual\",\n      \"properties\": {\n        \"dtype\": \"number\",\n        \"std\": 9.36850678517316,\n        \"min\": -41.29332592773437,\n        \"max\": 37.81259531249998,\n        \"num_unique_values\": 67,\n        \"samples\": [\n          -8.195333993530273,\n          0.34229743652343814,\n          9.700952220344544\n        ],\n        \"semantic_type\": \"\",\n        \"description\": \"\"\n      }\n    },\n    {\n      \"column\": \"Actual COGS\",\n      \"properties\": {\n        \"dtype\": \"number\",\n        \"std\": 28.286447717975616,\n        \"min\": 0.0,\n        \"max\": 247.0684,\n        \"num_unique_values\": 58,\n        \"samples\": [\n          4.1262,\n          12.468,\n          1.4853\n        ],\n        \"semantic_type\": \"\",\n        \"description\": \"\"\n      }\n    },\n    {\n      \"column\": \"Predicted COGS\",\n      \"properties\": {\n        \"dtype\": \"float32\",\n        \"num_unique_values\": 93,\n        \"samples\": [\n          0.6532130241394043,\n          0.743710994720459,\n          0.4519009590148926\n        ],\n        \"semantic_type\": \"\",\n        \"description\": \"\"\n      }\n    },\n    {\n      \"column\": \"COGS Residual\",\n      \"properties\": {\n        \"dtype\": \"number\",\n        \"std\": 6.508720742088175,\n        \"min\": -12.283424224853515,\n        \"max\": 47.99704990234375,\n        \"num_unique_values\": 94,\n        \"samples\": [\n          -0.16077685356140137,\n          -0.6657228984832764,\n          -0.768084394454956\n        ],\n        \"semantic_type\": \"\",\n        \"description\": \"\"\n      }\n    },\n    {\n      \"column\": \"Actual Unit Cases\",\n      \"properties\": {\n        \"dtype\": \"number\",\n        \"std\": 218.89164293684067,\n        \"min\": 0.0,\n        \"max\": 1804.5004,\n        \"num_unique_values\": 61,\n        \"samples\": [\n          14.7328,\n          28.563,\n          2.8573\n        ],\n        \"semantic_type\": \"\",\n        \"description\": \"\"\n      }\n    },\n    {\n      \"column\": \"Predicted Unit Cases\",\n      \"properties\": {\n        \"dtype\": \"float32\",\n        \"num_unique_values\": 87,\n        \"samples\": [\n          4.472285270690918,\n          1.5653762817382812,\n          0.1646178960800171\n        ],\n        \"semantic_type\": \"\",\n        \"description\": \"\"\n      }\n    },\n    {\n      \"column\": \"Unit Cases Residual\",\n      \"properties\": {\n        \"dtype\": \"number\",\n        \"std\": 30.208301238050264,\n        \"min\": -212.1606107421876,\n        \"max\": 94.74503457031255,\n        \"num_unique_values\": 87,\n        \"samples\": [\n          -3.3389852706909178,\n          13.167423718261718,\n          0.05528210391998292\n        ],\n        \"semantic_type\": \"\",\n        \"description\": \"\"\n      }\n    }\n  ]\n}"
            }
          },
          "metadata": {},
          "execution_count": 15
        }
      ]
    },
    {
      "cell_type": "code",
      "source": [
        "results_df.to_csv('results.csv', index = False)"
      ],
      "metadata": {
        "id": "zYACkh_S9r0U"
      },
      "execution_count": null,
      "outputs": []
    },
    {
      "source": [
        "# @title Actual Revenue\n",
        "\n",
        "from matplotlib import pyplot as plt\n",
        "results_df['Actual Revenue'].plot(kind='hist', bins=20, title='Actual Revenue')\n",
        "plt.gca().spines[['top', 'right',]].set_visible(False)"
      ],
      "cell_type": "code",
      "execution_count": null,
      "outputs": [
        {
          "output_type": "display_data",
          "data": {
            "text/plain": [
              "<Figure size 640x480 with 1 Axes>"
            ],
            "image/png": "[encoded data removed]"
          },
          "metadata": {}
        }
      ],
      "metadata": {
        "colab": {
          "base_uri": "https://localhost:8080/",
          "height": 452
        },
        "id": "F0br13ANpY56",
        "outputId": "d43fc01f-96e4-4d2d-8583-7686a988b980",
        "cellView": "form"
      }
    },
    {
      "source": [
        "# @title Predicted Revenue\n",
        "\n",
        "from matplotlib import pyplot as plt\n",
        "results_df['Predicted Revenue'].plot(kind='hist', bins=20, title='Predicted Revenue')\n",
        "plt.gca().spines[['top', 'right',]].set_visible(False)"
      ],
      "cell_type": "code",
      "execution_count": null,
      "outputs": [
        {
          "output_type": "display_data",
          "data": {
            "text/plain": [
              "<Figure size 640x480 with 1 Axes>"
            ],
            "image/png": "[encoded data removed]"
          },
          "metadata": {}
        }
      ],
      "metadata": {
        "colab": {
          "base_uri": "https://localhost:8080/",
          "height": 452
        },
        "id": "JxZgHkOKpkQe",
        "outputId": "b2c09f27-3870-4393-bb59-314e010e29b4",
        "cellView": "form"
      }
    },
    {
      "source": [
        "# @title Actual Revenue vs Predicted Revenue\n",
        "\n",
        "from matplotlib import pyplot as plt\n",
        "results_df.plot(kind='scatter', x='Actual Revenue', y='Predicted Revenue', s=32, alpha=.8)\n",
        "plt.gca().spines[['top', 'right',]].set_visible(False)"
      ],
      "cell_type": "code",
      "execution_count": null,
      "outputs": [
        {
          "output_type": "display_data",
          "data": {
            "text/plain": [
              "<Figure size 640x480 with 1 Axes>"
            ],
            "image/png": "[encoded data removed]"
          },
          "metadata": {}
        }
      ],
      "metadata": {
        "colab": {
          "base_uri": "https://localhost:8080/",
          "height": 451
        },
        "id": "pKz1j-vJpunL",
        "outputId": "156cfb63-1735-4884-8315-28c2a3d7c02d",
        "cellView": "form"
      }
    },
    {
      "source": [
        "# @title Actual COGS vs Predicted COGS\n",
        "\n",
        "from matplotlib import pyplot as plt\n",
        "results_df.plot(kind='scatter', x='Actual COGS', y='Predicted COGS', s=32, alpha=.8)\n",
        "plt.gca().spines[['top', 'right',]].set_visible(False)"
      ],
      "cell_type": "code",
      "execution_count": null,
      "outputs": [
        {
          "output_type": "display_data",
          "data": {
            "text/plain": [
              "<Figure size 640x480 with 1 Axes>"
            ],
            "image/png": "[encoded data removed]"
          },
          "metadata": {}
        }
      ],
      "metadata": {
        "colab": {
          "base_uri": "https://localhost:8080/",
          "height": 449
        },
        "id": "TN6IFlghqFBd",
        "outputId": "f22ef91f-06ec-4a0a-e553-b6b7afc215c2"
      }
    },
    {
      "cell_type": "code",
      "source": [
        "# @title Actual Unit Cases vs Predicted Unit Cases\n",
        "\n",
        "from matplotlib import pyplot as plt\n",
        "results_df.plot(kind='scatter', x='Actual Unit Cases', y='Predicted Unit Cases', s=32, alpha=.8)\n",
        "plt.gca().spines[['top', 'right',]].set_visible(False)"
      ],
      "metadata": {
        "colab": {
          "base_uri": "https://localhost:8080/",
          "height": 193
        },
        "id": "COJu6R5MVnTf",
        "outputId": "131bf9ce-cf16-4c83-b9c6-72a5aa3af0e1"
      },
      "execution_count": null,
      "outputs": [
        {
          "output_type": "error",
          "ename": "NameError",
          "evalue": "name 'results_df' is not defined",
          "traceback": [
            "\u001b[0;31m---------------------------------------------------------------------------\u001b[0m",
            "\u001b[0;31mNameError\u001b[0m                                 Traceback (most recent call last)",
            "\u001b[0;32m<ipython-input-12-0c4f40057f5c>\u001b[0m in \u001b[0;36m<cell line: 4>\u001b[0;34m()\u001b[0m\n\u001b[1;32m      2\u001b[0m \u001b[0;34m\u001b[0m\u001b[0m\n\u001b[1;32m      3\u001b[0m \u001b[0;32mfrom\u001b[0m \u001b[0mmatplotlib\u001b[0m \u001b[0;32mimport\u001b[0m \u001b[0mpyplot\u001b[0m \u001b[0;32mas\u001b[0m \u001b[0mplt\u001b[0m\u001b[0;34m\u001b[0m\u001b[0;34m\u001b[0m\u001b[0m\n\u001b[0;32m----> 4\u001b[0;31m \u001b[0mresults_df\u001b[0m\u001b[0;34m.\u001b[0m\u001b[0mplot\u001b[0m\u001b[0;34m(\u001b[0m\u001b[0mkind\u001b[0m\u001b[0;34m=\u001b[0m\u001b[0;34m'scatter'\u001b[0m\u001b[0;34m,\u001b[0m \u001b[0mx\u001b[0m\u001b[0;34m=\u001b[0m\u001b[0;34m'Actual Unit Cases'\u001b[0m\u001b[0;34m,\u001b[0m \u001b[0my\u001b[0m\u001b[0;34m=\u001b[0m\u001b[0;34m'Predicted Unit Cases'\u001b[0m\u001b[0;34m,\u001b[0m \u001b[0ms\u001b[0m\u001b[0;34m=\u001b[0m\u001b[0;36m32\u001b[0m\u001b[0;34m,\u001b[0m \u001b[0malpha\u001b[0m\u001b[0;34m=\u001b[0m\u001b[0;36m.8\u001b[0m\u001b[0;34m)\u001b[0m\u001b[0;34m\u001b[0m\u001b[0;34m\u001b[0m\u001b[0m\n\u001b[0m\u001b[1;32m      5\u001b[0m \u001b[0mplt\u001b[0m\u001b[0;34m.\u001b[0m\u001b[0mgca\u001b[0m\u001b[0;34m(\u001b[0m\u001b[0;34m)\u001b[0m\u001b[0;34m.\u001b[0m\u001b[0mspines\u001b[0m\u001b[0;34m[\u001b[0m\u001b[0;34m[\u001b[0m\u001b[0;34m'top'\u001b[0m\u001b[0;34m,\u001b[0m \u001b[0;34m'right'\u001b[0m\u001b[0;34m,\u001b[0m\u001b[0;34m]\u001b[0m\u001b[0;34m]\u001b[0m\u001b[0;34m.\u001b[0m\u001b[0mset_visible\u001b[0m\u001b[0;34m(\u001b[0m\u001b[0;32mFalse\u001b[0m\u001b[0;34m)\u001b[0m\u001b[0;34m\u001b[0m\u001b[0;34m\u001b[0m\u001b[0m\n",
            "\u001b[0;31mNameError\u001b[0m: name 'results_df' is not defined"
          ]
        }
      ]
    }
  ]
}